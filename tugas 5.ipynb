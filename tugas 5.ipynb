{
 "cells": [
  {
   "cell_type": "code",
   "execution_count": 1,
   "metadata": {},
   "outputs": [
    {
     "name": "stdout",
     "output_type": "stream",
     "text": [
      "Menghitung Rata - Rata Nilai\n",
      "Masukan massa : 3\n",
      "Masukan kecepahatan Cahaya : 5\n",
      "Energi (E) :  75.0\n"
     ]
    }
   ],
   "source": [
    "print(\"Menghitung Rata - Rata Nilai\")\n",
    "\n",
    "m = float(input(\"Masukan massa : \"))\n",
    "c = float(input(\"Masukan kecepahatan Cahaya : \"))\n",
    "\n",
    "e = m * c**2\n",
    "\n",
    "print(\"Energi (E) : \", str(e))\n"
   ]
  },
  {
   "cell_type": "code",
   "execution_count": 13,
   "metadata": {},
   "outputs": [
    {
     "name": "stdout",
     "output_type": "stream",
     "text": [
      "Konversi Suhu Dari Celcius Ke Fahrenheit Ke Reamur\n",
      "Masukan Suhu Dalam Celcius : 5\n",
      "Hasil Perhitungan Konversi Suhu: \n",
      "Suhu Celcius adalah    :  5.0\n",
      "Suhu Fahrenheit adalah :  41.0\n",
      "Suhu Reamur adalah     :  4.0\n"
     ]
    }
   ],
   "source": [
    "print (\"Konversi Suhu Dari Celcius Ke Fahrenheit Ke Reamur\")\n",
    "\n",
    "c = float(input(\"Masukan Suhu Dalam Celcius : \" ))\n",
    "f = (9/5) * c + 32\n",
    "r = (4/5) * c\n",
    "print (\"Hasil Perhitungan Konversi Suhu: \")\n",
    "print (\"Suhu Celcius adalah    : \" , str(c))\n",
    "print (\"Suhu Fahrenheit adalah : \" , str(f))\n",
    "print (\"Suhu Reamur adalah     : \" , str(r))"
   ]
  },
  {
   "cell_type": "code",
   "execution_count": 15,
   "metadata": {},
   "outputs": [
    {
     "name": "stdout",
     "output_type": "stream",
     "text": [
      "Konversi Suhu Dari Celcius Ke Fahrenheit Ke Reamur\n",
      "Masukan Detik : 259200\n",
      "Konversi Waktu Tersebut Adalah : \n",
      "hari    :  3.0\n",
      "Jam     :  72.0\n",
      "Menit   :  4320.0\n",
      "Detik   :  259200.0\n"
     ]
    }
   ],
   "source": [
    "print (\"Konversi Suhu Dari Celcius Ke Fahrenheit Ke Reamur\")\n",
    "\n",
    "detik = float(input(\"Masukan Detik : \" ))\n",
    "hari = detik / 86400\n",
    "jam=detik/3600;\n",
    "menit=detik/60;\n",
    "detik=detik/1;\n",
    "print (\"Konversi Waktu Tersebut Adalah : \")\n",
    "print (\"hari    : \" , str(hari))\n",
    "print (\"Jam     : \" , str(jam))\n",
    "print (\"Menit   : \" , str(menit))\n",
    "print (\"Detik   : \" , str(detik))"
   ]
  },
  {
   "cell_type": "code",
   "execution_count": null,
   "metadata": {},
   "outputs": [],
   "source": []
  }
 ],
 "metadata": {
  "kernelspec": {
   "display_name": "Python 3",
   "language": "python",
   "name": "python3"
  },
  "language_info": {
   "codemirror_mode": {
    "name": "ipython",
    "version": 3
   },
   "file_extension": ".py",
   "mimetype": "text/x-python",
   "name": "python",
   "nbconvert_exporter": "python",
   "pygments_lexer": "ipython3",
   "version": "3.8.5"
  }
 },
 "nbformat": 4,
 "nbformat_minor": 4
}
